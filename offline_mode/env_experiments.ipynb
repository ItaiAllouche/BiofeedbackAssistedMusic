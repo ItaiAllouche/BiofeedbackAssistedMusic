{
 "cells": [
  {
   "cell_type": "markdown",
   "metadata": {},
   "source": [
    "**Optimizing HR by tuning the SF**\n",
    "\n",
    "In order to get the optimal HR that we want to achive during a run for a specimen we need to first make him reach his maximum HR and than calcukating about 50-70% of it. Than when conducting the optimization experiment we can use the following \"Optimal HR\" to have a goal/wanted HR to achive during the run, and tuning using the SF.\n",
    "\n"
   ]
  },
  {
   "cell_type": "markdown",
   "metadata": {},
   "source": [
    "**Module 1: Finding maximum HR **\n",
    "Using a sport activity that will make the speciman reach very high HR and hopefully the maximum HR\n",
    "\n",
    "\n",
    "**Module 2: Finding optimal HR **\n",
    "need to complete\n"
   ]
  },
  {
   "cell_type": "code",
   "execution_count": null,
   "metadata": {},
   "outputs": [],
   "source": [
    "\n",
    "from multiprocessing import Process,Value,Queue\n",
    "from pydub import AudioSegment\n",
    "import logging\n",
    "\n",
    "\"\"\"\n",
    "A scrit that allow real time musique speed modification with calcul on another Proccess to avoid overloading the main boucle\n",
    "\"\"\"\n",
    "\n",
    "# method from https://stackoverflow.com/questions/51434897/how-to-change-audio-playback-speed-using-pydub\n",
    "def speed_change(sound:AudioSegment, speed=1.0):\n",
    "    # Manually override the frame_rate. This tells the computer how many\n",
    "    # samples to play per second\n",
    "    sound_with_altered_frame_rate = sound._spawn(sound.raw_data, overrides={\n",
    "        \"frame_rate\": int(sound.frame_rate * speed)\n",
    "    })\n",
    "\n",
    "    # convert the sound with altered frame rate to a standard frame rate\n",
    "    # so that regular playback programs will work right. They often only\n",
    "    # know how to play audio at standard frame rate (like 44.1k)\n",
    "    return sound_with_altered_frame_rate.set_frame_rate(sound.frame_rate)\n",
    "\n",
    "musique_original = AudioSegment.from_file(\"shit.wav\")\n",
    "\n",
    "sound_factor = Value('d',1)\n",
    "sound_offset = 500\n",
    "\n",
    "Sounds_buffer = Queue(maxsize=2) # maxsize will be interfering with the update (less = more reactive but less resilient to lag)\n",
    "\n",
    "def generator(sound_buffer:Queue,factor:Value,offset:int=500):\n",
    "    # var declaration\n",
    "    musique_alternate = musique_original # current study of the musique\n",
    "    player_offset = offset # offset of each sample\n",
    "    max_occilation = 0.01 # max modification of speed between two sample (lesser => more faded)\n",
    "    local_factor = factor.value # local factor of speed\n",
    "\n",
    "    while True:\n",
    "        if not Sounds_buffer.full(): # if the Queue is not full\n",
    "            # if local factor need update\n",
    "            if local_factor<factor.value:\n",
    "                local_factor += max_occilation\n",
    "            elif local_factor>factor.value:\n",
    "                local_factor -= max_occilation\n",
    "\n",
    "            if len(musique_alternate) > player_offset*local_factor: # check if we can take a normal sample in the study\n",
    "                sample, musique_alternate = musique_alternate[:player_offset*local_factor], musique_alternate[player_offset*local_factor:]\n",
    "            else: # else we just play what rest and loop the study back\n",
    "                sample,musique_alternate = musique_alternate,musique_original\n",
    "\n",
    "            _sample = speed_change(sample,local_factor)\n",
    "            buffer = bytearray(_sample.raw_data)\n",
    "            sound_buffer.put(buffer) # buffer send to the partaged Queue\n",
    "\n",
    "p = Process(target=generator,args=(Sounds_buffer,sound_factor,sound_offset),daemon=True)"
   ]
  },
  {
   "cell_type": "code",
   "execution_count": 10,
   "metadata": {},
   "outputs": [],
   "source": [
    "from audiotsm import phasevocoder\n",
    "from audiotsm.io.wav import WavReader, WavWriter\n",
    "\n",
    "with WavReader(\"shit.wav\") as reader:\n",
    "    with WavWriter(\"shit_out.wav\", reader.channels, reader.samplerate) as writer:\n",
    "        tsm = phasevocoder(reader.channels, speed=1.2)\n",
    "        tsm.run(reader, writer)\n",
    "        \n",
    "        "
   ]
  },
  {
   "cell_type": "code",
   "execution_count": 13,
   "metadata": {},
   "outputs": [
    {
     "name": "stdout",
     "output_type": "stream",
     "text": [
      "hello\n",
      "\n"
     ]
    }
   ],
   "source": [
    "import sounddevice as sd\n",
    "\n",
    "# List available audio devices and their indices\n",
    "print(\"hello\")\n",
    "print(sd.query_devices())\n",
    "\n",
    "# Specify a valid device index explicitly\n",
    "device_idx = 0  # Replace with the index of your desired output device\n",
    "# sd.play(np.ascontiguousarray(writer.data.T), samplerate, device=device_idx, blocking=True)\n"
   ]
  },
  {
   "cell_type": "code",
   "execution_count": null,
   "metadata": {},
   "outputs": [],
   "source": [
    "#!/usr/bin/env python3\n",
    "# -*- coding: utf-8 -*-\n",
    "\n",
    "\"\"\"\n",
    "sine\n",
    "~~~~\n",
    "\n",
    "Run a TSM procedure on a signal generated with numpy.\n",
    "\"\"\"\n",
    "# pylint: disable=invalid-name\n",
    "\n",
    "import numpy as np\n",
    "import sounddevice as sd\n",
    "from audiotsm import wsola\n",
    "from audiotsm.io.array import ArrayReader, ArrayWriter\n",
    "\n",
    "\n",
    "# The parameters of the input signal\n",
    "length = 1  # in seconds\n",
    "samplerate = 44100  # in Hz\n",
    "frequency = 440  # an A4\n",
    "\n",
    "# Generate the input signal\n",
    "time = np.linspace(0, length, int(length * samplerate))\n",
    "input_signal = np.sin(np.pi * frequency * time).reshape((1, -1))\n",
    "\n",
    "# Run the TSM procedure\n",
    "reader = ArrayReader(input_signal)\n",
    "writer = ArrayWriter(channels=1)\n",
    "\n",
    "tsm = wsola(channels=1, speed=0.5)\n",
    "tsm.run(reader, writer)\n",
    "\n",
    "# Play the output\n",
    "# This example was written to show how to use an ArrayWriter. If you want to\n",
    "# play the output of a TSM procedure you should use an\n",
    "# audiotsm.io.stream.StreamWriter.\n",
    "sd.play(np.ascontiguousarray(writer.data.T), samplerate, blocking=True)"
   ]
  }
 ],
 "metadata": {
  "kernelspec": {
   "display_name": "env",
   "language": "python",
   "name": "python3"
  },
  "language_info": {
   "codemirror_mode": {
    "name": "ipython",
    "version": 3
   },
   "file_extension": ".py",
   "mimetype": "text/x-python",
   "name": "python",
   "nbconvert_exporter": "python",
   "pygments_lexer": "ipython3",
   "version": "3.10.12"
  },
  "orig_nbformat": 4
 },
 "nbformat": 4,
 "nbformat_minor": 2
}
