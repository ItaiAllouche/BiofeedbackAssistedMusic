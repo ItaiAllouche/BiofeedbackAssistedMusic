{
 "cells": [
  {
   "cell_type": "code",
   "execution_count": null,
   "metadata": {},
   "outputs": [],
   "source": [
    "import sys\n",
    "import pickle\n",
    "import matplotlib.pyplot as plt\n",
    "import numpy as np\n",
    "from scipy.signal import butter, filtfilt, correlate, find_peaks\n",
    "from scipy.fft import fft, fftfreq\n",
    "import pandas as pd\n",
    "\n",
    "\n",
    "SAMPLING_RATE = 64 #Hz\n",
    "WINDOW_SIZE = 10\n",
    "LOW_FREQ = 0.5 #Hz\n",
    "HIGH_FREQ = 5 #Hz"
   ]
  },
  {
   "cell_type": "code",
   "execution_count": null,
   "metadata": {},
   "outputs": [],
   "source": [
    "def bandpass_filter(signal_data: np.ndarray, low_freq: float, high_freq: float, sampling_rate:int) -> np.ndarray: \n",
    "    \"\"\"\n",
    "    Filter frequencies out of [low_freq, high_freq].\n",
    "        args:\n",
    "            signal_data: \n",
    "                data in time domain\n",
    "            low_freq:\n",
    "                low frequency\n",
    "            high_freq:\n",
    "                high frequency\n",
    "            sampling_rate:\n",
    "                sampling rate\n",
    "    \"\"\"\n",
    "    nyquist_freq = 0.5 * sampling_rate\n",
    "    low = low_freq / nyquist_freq\n",
    "    high = high_freq / nyquist_freq\n",
    "    order = 4  # Filter order\n",
    "    b, a = butter(order, [low, high], btype='band')\n",
    "    filtered_signal = filtfilt(b, a, signal_data)\n",
    "    return filtered_signal"
   ]
  },
  {
   "cell_type": "code",
   "execution_count": null,
   "metadata": {},
   "outputs": [],
   "source": [
    "hr_history: list[float] = []\n",
    "def get_hr_from_bvp(bvp: np.ndarray, reset=False, plot=False) -> float:\n",
    "    global hr_history\n",
    "    # print(hr_history)\n",
    "    if reset:\n",
    "        hr_history = []\n",
    "    filtered_bvp_signal = bandpass_filter(bvp, LOW_FREQ, HIGH_FREQ, sampling_rate=SAMPLING_RATE)\n",
    "    r = correlate(filtered_bvp_signal, filtered_bvp_signal)\n",
    "    r = r[len(r)//2:]\n",
    "    peaks,_ = find_peaks(r, prominence=r[0]/4)\n",
    "    def b(peaks):\n",
    "        return 60/((peaks[1]-peaks[0])/64)\n",
    "    MIN_HR, MAX_HR, FALLBACK_HR = 55, 160, 60\n",
    "    # Edge cases\n",
    "    if len(peaks) < 2 or b(peaks) < MIN_HR or b(peaks) > MAX_HR:\n",
    "        if len(hr_history) == 0:\n",
    "            return FALLBACK_HR\n",
    "        else:\n",
    "            # Returns latest HR\n",
    "            return hr_history[-1]\n",
    "    hr = b(peaks)\n",
    "    # Updating history by removing last HR and adding newest HR\n",
    "    if len(hr_history) > 2:\n",
    "        hr_history.pop(0)\n",
    "    hr_history.append(hr)\n",
    "    w = np.array([i+1 for i in range(len(hr_history))])\n",
    "    # Update newest HR by weighted average of history\n",
    "    hr_history[-1] = sum([hr_history[i]*w[i] for i in range(len(hr_history))])/sum(w)\n",
    "    if plot:\n",
    "        plt.plot(r)\n",
    "        plt.scatter(peaks, r[peaks], color='r')\n",
    "        plt.show()\n",
    "    \n",
    "    return hr_history[-1]"
   ]
  },
  {
   "cell_type": "code",
   "execution_count": null,
   "metadata": {},
   "outputs": [],
   "source": [
    "all_bvp = np.load('./../../recordings/empatica/may_15min_run_metronome/bvp.pkl', allow_pickle=True)\n"
   ]
  },
  {
   "cell_type": "code",
   "execution_count": null,
   "metadata": {},
   "outputs": [],
   "source": [
    "START_WINDOW_IDX = 1000\n",
    "WIN_IDX = 8\n",
    "reset = False\n",
    "bvp = all_bvp[START_WINDOW_IDX+640*WIN_IDX:START_WINDOW_IDX+640*(WIN_IDX+1)]\n",
    "plt.plot(bvp)"
   ]
  },
  {
   "cell_type": "code",
   "execution_count": null,
   "metadata": {},
   "outputs": [],
   "source": [
    "# reshape bvp signal to non overllaping windows 10 sec length\n",
    "bvp_cutted = bvp[:len(bvp)- len(bvp)%(SAMPLING_RATE*WINDOW_SIZE)]\n",
    "bvp_reshaped = bvp_cutted.reshape(len(bvp_cutted)//(WINDOW_SIZE*SAMPLING_RATE), WINDOW_SIZE*SAMPLING_RATE)\n",
    "\n",
    "# print 10 bvp windows, in each windows we estimate the HR\n",
    "for i in range(bvp_reshaped.shape[0]):\n",
    "    # plt.figure()\n",
    "    # plt.plot(bvp_reshaped[i])\n",
    "    # plt.title(f'BVP in window[{i}] | HR={get_hr_from_bvp(bvp_reshaped[i]/2)}')\n",
    "    print(f\"window[{i}] | HR={get_hr_from_bvp(bvp_reshaped[i], reset=reset, plot=True)}\")"
   ]
  },
  {
   "cell_type": "code",
   "execution_count": null,
   "metadata": {},
   "outputs": [],
   "source": [
    "hr_history"
   ]
  }
 ],
 "metadata": {
  "kernelspec": {
   "display_name": "Python 3",
   "language": "python",
   "name": "python3"
  },
  "language_info": {
   "codemirror_mode": {
    "name": "ipython",
    "version": 3
   },
   "file_extension": ".py",
   "mimetype": "text/x-python",
   "name": "python",
   "nbconvert_exporter": "python",
   "pygments_lexer": "ipython3",
   "version": "3.11.2"
  }
 },
 "nbformat": 4,
 "nbformat_minor": 2
}
