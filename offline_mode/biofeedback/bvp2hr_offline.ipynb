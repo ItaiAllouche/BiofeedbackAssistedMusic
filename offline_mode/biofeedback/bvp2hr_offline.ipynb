{
 "cells": [
  {
   "cell_type": "code",
   "execution_count": null,
   "metadata": {},
   "outputs": [],
   "source": [
    "import sys\n",
    "import pickle\n",
    "import matplotlib.pyplot as plt\n",
    "import numpy as np\n",
    "from scipy.signal import butter, filtfilt, correlate, find_peaks\n",
    "from scipy.fft import fft, fftfreq\n",
    "import pandas as pd\n",
    "\n",
    "\n",
    "SAMPLING_RATE = 64 #Hz\n",
    "WINDOW_SIZE = 10\n",
    "LOW_FREQ = 0.5 #Hz\n",
    "HIGH_FREQ = 5 #Hz"
   ]
  },
  {
   "cell_type": "code",
   "execution_count": null,
   "metadata": {},
   "outputs": [],
   "source": [
    "def bandpass_filter(signal_data: np.ndarray, low_freq: float, high_freq: float, sampling_rate:int) -> np.ndarray: \n",
    "    \"\"\"\n",
    "    Filter frequencies out of [low_freq, high_freq].\n",
    "        args:\n",
    "            signal_data: \n",
    "                data in time domain\n",
    "            low_freq:\n",
    "                low frequency\n",
    "            high_freq:\n",
    "                high frequency\n",
    "            sampling_rate:\n",
    "                sampling rate\n",
    "    \"\"\"\n",
    "    nyquist_freq = 0.5 * sampling_rate\n",
    "    low = low_freq / nyquist_freq\n",
    "    high = high_freq / nyquist_freq\n",
    "    order = 4  # Filter order\n",
    "    b, a = butter(order, [low, high], btype='band')\n",
    "    filtered_signal = filtfilt(b, a, signal_data)\n",
    "    return filtered_signal"
   ]
  },
  {
   "cell_type": "code",
   "execution_count": null,
   "metadata": {},
   "outputs": [],
   "source": [
    "hr_history: list[float] = []\n",
    "def get_hr_from_bvp(bvp: np.ndarray) -> float:\n",
    "    filtered_bvp_signal = bandpass_filter(bvp, LOW_FREQ, HIGH_FREQ, sampling_rate=SAMPLING_RATE)\n",
    "    r = correlate(filtered_bvp_signal, filtered_bvp_signal)\n",
    "    r = r[len(r)//2:]\n",
    "    peaks,_ = find_peaks(r, prominence=r[0]/4)\n",
    "    def b(peaks):\n",
    "        return 60/((peaks[1]-peaks[0])/64)\n",
    "    MIN_HR, MAX_HR, FALLBACK_HR = 55, 160, 60\n",
    "    if len(peaks) < 2 or b(peaks) < MIN_HR or b(peaks) > MAX_HR:\n",
    "        if len(hr_history) == 0:\n",
    "            return FALLBACK_HR\n",
    "        else:\n",
    "            return hr_history[-1]\n",
    "    hr = b(peaks)\n",
    "    print(f'msg form get_blabla: {hr=}')\n",
    "    if len(hr_history) > 2:\n",
    "        hr_history.pop(0)\n",
    "    hr_history.append(hr)\n",
    "    w = np.array([i+1 for i in range(len(hr_history))])\n",
    "    hr_history[-1] = sum([hr_history[i]*w[i] for i in range(len(hr_history))])/sum(w)\n",
    "    \n",
    "    return hr_history[-1]\n",
    "    # plt.plot(r)\n",
    "    # plt.scatter(peaks, r[peaks], color='r')\n",
    "    # plt.show()\n",
    "    "
   ]
  },
  {
   "cell_type": "code",
   "execution_count": null,
   "metadata": {},
   "outputs": [],
   "source": [
    "# SAMPLING_RATE = 64 #Hz\n",
    "# df = pd.read_csv('./../../recordings/empatica/itai_15min_run_metronome//BVP.csv', skiprows=2, header=None)\n",
    "# bvp = df[0].values\n",
    "# bvp = np.array(bvp)\n",
    "# bvp = bvp[1000:2200]\n",
    "# bvp = bvp[: len(bvp) - len(bvp) % SAMPLING_RATE]\n",
    "# plt.plot(bvp)\n",
    "bvp = np.load('./../../recordings/empatica/may_15min_run_metronome/bvp.pkl', allow_pickle=True)\n",
    "# bvp_path = './../../recordings/empatica/'\n",
    "# df = pd.read_csv(bvp_path, skiprows=2, header=None, names=['bvp'])\n",
    "# bvp = df['bvp'].to_numpy()\n",
    "START_WINDOW_IDX = 1000\n",
    "WIN_IDX = 8\n",
    "bvp = bvp[START_WINDOW_IDX+640*WIN_IDX:START_WINDOW_IDX+640*(WIN_IDX+1)]\n",
    "plt.plot(bvp)"
   ]
  },
  {
   "cell_type": "code",
   "execution_count": null,
   "metadata": {},
   "outputs": [],
   "source": [
    "# reshape bvp signal to non overllaping windows 10 sec length\n",
    "bvp_cutted = bvp[:len(bvp)- len(bvp)%(SAMPLING_RATE*WINDOW_SIZE)]\n",
    "bvp_reshaped = bvp_cutted.reshape(len(bvp_cutted)//(WINDOW_SIZE*SAMPLING_RATE), WINDOW_SIZE*SAMPLING_RATE)\n",
    "\n",
    "# print 10 bvp windows, in each windows we estimate the HR\n",
    "for i in range(bvp_reshaped.shape[0]):\n",
    "    # plt.figure()\n",
    "    # plt.plot(bvp_reshaped[i])\n",
    "    # plt.title(f'BVP in window[{i}] | HR={get_hr_from_bvp(bvp_reshaped[i]/2)}')\n",
    "    print(f\"window[{i}] | HR={get_hr_from_bvp(bvp_reshaped[i])}\")"
   ]
  },
  {
   "cell_type": "code",
   "execution_count": null,
   "metadata": {},
   "outputs": [],
   "source": [
    "hr_history"
   ]
  },
  {
   "cell_type": "code",
   "execution_count": null,
   "metadata": {},
   "outputs": [],
   "source": [
    "LOW_FREQ = 0.1 #Hz\n",
    "HIGH_FREQ = 5 #Hz\n",
    "\n",
    "def get_hr_from_bvp(bvp: np.ndarray) -> float:\n",
    "    import matplotlib.pyplot as plt\n",
    "    # filted unrelevant frequencies\n",
    "    filtered_bvp_signal = bandpass_filter(bvp, LOW_FREQ, HIGH_FREQ, sampling_rate=SAMPLING_RATE)\n",
    "\n",
    "    from scipy.signal import correlate, find_peaks\n",
    "    r = correlate(filtered_bvp_signal, filtered_bvp_signal)\n",
    "    plt.plot(r)\n",
    "    # plt.scatter(peaks, r[peaks], color='r')\n",
    "    plt.show()\n",
    "    r = r[len(r)//2:]\n",
    "    peaks,_ = find_peaks(r, prominence=r[0]/4)\n",
    "    return 60/((peaks[1]-peaks[0])/64)"
   ]
  },
  {
   "cell_type": "code",
   "execution_count": null,
   "metadata": {},
   "outputs": [],
   "source": [
    "# reshape bvp to 3 non-overlapping windows 6 seconds each\n",
    "bvp_win = bvp.reshape((3 ,len(bvp)//3))\n",
    "hr = [get_hr_from_bvp(bvp_win[i]) for i in range(3)]\n",
    "print(hr)"
   ]
  }
 ],
 "metadata": {
  "kernelspec": {
   "display_name": "Python 3",
   "language": "python",
   "name": "python3"
  },
  "language_info": {
   "codemirror_mode": {
    "name": "ipython",
    "version": 3
   },
   "file_extension": ".py",
   "mimetype": "text/x-python",
   "name": "python",
   "nbconvert_exporter": "python",
   "pygments_lexer": "ipython3",
   "version": "3.11.2"
  }
 },
 "nbformat": 4,
 "nbformat_minor": 2
}
