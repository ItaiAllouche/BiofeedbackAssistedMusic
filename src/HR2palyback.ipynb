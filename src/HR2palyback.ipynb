{
 "cells": [
  {
   "cell_type": "code",
   "execution_count": 6,
   "metadata": {},
   "outputs": [],
   "source": [
    "# Global vars:\n",
    "max_HR = 200\n",
    "ideal_HR = max_HR * 0.75\n",
    "run_time = 60*10\n",
    "run_length = 3000"
   ]
  },
  {
   "cell_type": "code",
   "execution_count": 5,
   "metadata": {},
   "outputs": [],
   "source": [
    "# input: current HR, global params\n",
    "# output: next tempo to play\n",
    "\n",
    "def current_state_to_tempo(current_HR, current_sf):\n",
    "    if (current_HR == ideal_HR):\n",
    "        return (current_sf)\n",
    "    \n",
    "    elif (current_HR > (1.2*ideal_HR)):\n",
    "        # lower tempo\n",
    "        return (current_sf * 0.9)\n",
    "    \n",
    "    elif (current_HR < (0.8*ideal_HR)):\n",
    "        # increase tempo\n",
    "        return (current_sf * 1.1)"
   ]
  },
  {
   "cell_type": "code",
   "execution_count": 17,
   "metadata": {},
   "outputs": [
    {
     "name": "stdout",
     "output_type": "stream",
     "text": [
      "start time:  1692532505.2078192\n",
      "START\n",
      "1\n",
      "2\n",
      "3\n",
      "4\n"
     ]
    }
   ],
   "source": [
    "import keyboard\n",
    "import time\n",
    "import librosa\n",
    "import soundfile as sf\n",
    "\n",
    "start_time = time.time() #sec\n",
    "print(\"start time: \", start_time)\n",
    "# recieve data live from empatica braclet of HR and accelerometer, and calc sf and then the tempo\n",
    "def loop():\n",
    "    # initiations\n",
    "    current_sf = 2 #Hz\n",
    "    current_tempo = 0 #BPM\n",
    "    slope_time = 0.5 #sec\n",
    "\n",
    "    while True:\n",
    "        if keyboard.is_pressed(\"space\"):\n",
    "            print(\"Spacebar pressed. Exiting the loop.\")\n",
    "            break\n",
    "        else:\n",
    "            # claculate the sf\n",
    "            current_SF = get_current_sf()\n",
    "            next_tempo = current_state_to_tempo(last_measured_HR, current_sf)\n",
    "            \n",
    "            pass\n",
    "\n",
    "\n",
    "\n",
    "\n",
    "print(\"START\")\n",
    "# Load your audio file or provide the audio buffer as a NumPy array\n",
    "audio_file = \"/home/dogomen11/BiofeedbackAssistedMusic/src/shit.wav\"\n",
    "print(\"1\")\n",
    "y, sr = librosa.load(audio_file, sr=None)\n",
    "\n",
    "# Change the playback speed (time stretch)\n",
    "print(\"2\")\n",
    "playback_speed = 0.5  # Adjust this value as needed (1.0 means no change)\n",
    "print(\"3\")\n",
    "y_stretched = librosa.effects.time_stretch(y=y, rate=playback_speed)\n",
    "\n",
    "print(\"4\")\n",
    "# Save the stretched audio to a new file (optional)\n",
    "sf.write(\"stretched_audio_2.wav\", y_stretched, sr)\n",
    "\n",
    "# Now, y_stretched contains the audio buffer with adjusted playback speed\n"
   ]
  }
 ],
 "metadata": {
  "kernelspec": {
   "display_name": "env",
   "language": "python",
   "name": "python3"
  },
  "language_info": {
   "codemirror_mode": {
    "name": "ipython",
    "version": 3
   },
   "file_extension": ".py",
   "mimetype": "text/x-python",
   "name": "python",
   "nbconvert_exporter": "python",
   "pygments_lexer": "ipython3",
   "version": "3.10.12"
  },
  "orig_nbformat": 4
 },
 "nbformat": 4,
 "nbformat_minor": 2
}
