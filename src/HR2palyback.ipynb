{
 "cells": [
  {
   "cell_type": "code",
   "execution_count": 1,
   "metadata": {},
   "outputs": [],
   "source": [
    "# Global vars:\n",
    "max_HR = 200\n",
    "ideal_HR = max_HR * 0.75\n",
    "run_time = 60*10\n",
    "run_length = 3000"
   ]
  },
  {
   "cell_type": "code",
   "execution_count": 2,
   "metadata": {},
   "outputs": [],
   "source": [
    "# input: current HR, global params\n",
    "# output: next tempo to play\n",
    "\n",
    "def current_state_to_tempo(current_HR, current_sf):\n",
    "    if (current_HR == ideal_HR):\n",
    "        return (current_sf)\n",
    "    \n",
    "    elif (current_HR > (1.2*ideal_HR)):\n",
    "        # lower tempo\n",
    "        return (current_sf * 0.9)\n",
    "    \n",
    "    elif (current_HR < (0.8*ideal_HR)):\n",
    "        # increase tempo\n",
    "        return (current_sf * 1.1)"
   ]
  },
  {
   "cell_type": "code",
   "execution_count": 12,
   "metadata": {},
   "outputs": [
    {
     "name": "stdout",
     "output_type": "stream",
     "text": [
      "start time:  1692966523.6155891\n"
     ]
    }
   ],
   "source": [
    "import keyboard\n",
    "import time\n",
    "import librosa\n",
    "import soundfile as sf\n",
    "\n",
    "start_time = time.time() #sec\n",
    "print(\"start time: \", start_time)\n",
    "# recieve data live from empatica braclet of HR and accelerometer, and calc sf and then the tempo\n",
    "def loop():\n",
    "    # initiations\n",
    "    current_sf = 2 #Hz\n",
    "    current_tempo = 0 #BPM\n",
    "    slope_time = 0.5 #sec\n",
    "\n",
    "    while True:\n",
    "        if keyboard.is_pressed(\"space\"):\n",
    "            print(\"Spacebar pressed. Exiting the loop.\")\n",
    "            break\n",
    "        else:\n",
    "            # claculate the sf\n",
    "            current_SF = get_current_sf()\n",
    "            next_tempo = current_state_to_tempo(last_measured_HR, current_sf)\n",
    "            \n",
    "            pass\n",
    "\n",
    "    return current_tempo"
   ]
  }
 ],
 "metadata": {
  "kernelspec": {
   "display_name": "env",
   "language": "python",
   "name": "python3"
  },
  "language_info": {
   "codemirror_mode": {
    "name": "ipython",
    "version": 3
   },
   "file_extension": ".py",
   "mimetype": "text/x-python",
   "name": "python",
   "nbconvert_exporter": "python",
   "pygments_lexer": "ipython3",
   "version": "3.10.12"
  },
  "orig_nbformat": 4
 },
 "nbformat": 4,
 "nbformat_minor": 2
}
