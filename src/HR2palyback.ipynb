{
 "cells": [
  {
   "cell_type": "code",
   "execution_count": null,
   "metadata": {},
   "outputs": [],
   "source": [
    "import keyboard\n",
    "import time\n",
    "import librosa\n",
    "import soundfile as sf"
   ]
  },
  {
   "cell_type": "code",
   "execution_count": 2,
   "metadata": {},
   "outputs": [],
   "source": [
    "# input: current HR, global params\n",
    "# output: next tempo to play\n",
    "\n",
    "def current_state_to_tempo(current_HR, current_sf):\n",
    "    if (current_HR == ideal_HR):\n",
    "        return (current_sf)\n",
    "    \n",
    "    elif (current_HR > (1.2*ideal_HR)):\n",
    "        # lower tempo\n",
    "        return (current_sf * 0.9)\n",
    "    \n",
    "    elif (current_HR < (0.8*ideal_HR)):\n",
    "        # increase tempo\n",
    "        return (current_sf * 1.1)"
   ]
  }
 ],
 "metadata": {
  "kernelspec": {
   "display_name": "env",
   "language": "python",
   "name": "python3"
  },
  "language_info": {
   "codemirror_mode": {
    "name": "ipython",
    "version": 3
   },
   "file_extension": ".py",
   "mimetype": "text/x-python",
   "name": "python",
   "nbconvert_exporter": "python",
   "pygments_lexer": "ipython3",
   "version": "3.10.12"
  },
  "orig_nbformat": 4
 },
 "nbformat": 4,
 "nbformat_minor": 2
}
