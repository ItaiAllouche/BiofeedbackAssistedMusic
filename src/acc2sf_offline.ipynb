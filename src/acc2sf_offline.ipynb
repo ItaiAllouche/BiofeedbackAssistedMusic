{
 "cells": [
  {
   "cell_type": "code",
   "execution_count": null,
   "metadata": {},
   "outputs": [],
   "source": [
    "# Algorithm flow\n",
    "from IPython.display import Image, display\n",
    "display(Image(filename='../additional_files/accTosf_algo.png'))"
   ]
  },
  {
   "cell_type": "code",
   "execution_count": null,
   "metadata": {},
   "outputs": [],
   "source": [
    "from scipy.signal import find_peaks\n",
    "import numpy as np\n",
    "import pandas as pd\n",
    "#import import_ipynb\n",
    "from base_functions import find_walking, peak2peak\n",
    "\n",
    "# Frequency sampling\n",
    "FS = 32\n",
    "# Max and Min frequency (for running)\n",
    "Fw_max = 6\n",
    "Fw_min = 0.5\n",
    "# Mininum consecutive windows to identify running (in sec)\n",
    "min_T = 6\n",
    "# Segment threshold\n",
    "A = 0.3\n",
    "# Parameters for equation from algorithm flow\n",
    "alpha = 31.7\n",
    "beta = 1.4"
   ]
  },
  {
   "cell_type": "code",
   "execution_count": null,
   "metadata": {},
   "outputs": [],
   "source": [
    "# Read data\n",
    "df = pd.read_csv('../recordings/gym_12kmh//ACC.csv', skiprows=2, header=None)\n",
    "df.columns = ['x', 'y', 'z']\n",
    "magnitude = np.linalg.norm(df, axis=1)-1"
   ]
  },
  {
   "cell_type": "code",
   "execution_count": null,
   "metadata": {},
   "outputs": [],
   "source": [
    "# Split data into segments - 1 sec windows\n",
    "# Only segments with length 32 are valid\n",
    "magnitude = magnitude[:len(magnitude)-len(magnitude)%32]\n",
    "magnitude_segments = magnitude.reshape(-1,FS)"
   ]
  },
  {
   "cell_type": "code",
   "execution_count": null,
   "metadata": {},
   "outputs": [],
   "source": [
    "# Calculate peak-to-peak amp in each segment\n",
    "ptp_amp = np.apply_along_axis(peak2peak,axis=1,arr=magnitude_segments)"
   ]
  },
  {
   "cell_type": "code",
   "execution_count": null,
   "metadata": {},
   "outputs": [],
   "source": [
    "# Find segments above A\n",
    "magnitude_segments[ptp_amp < A] = 0\n",
    "magnitude = magnitude_segments.reshape(len(magnitude))\n",
    "valid = np.ones(len(ptp_amp), dtype=bool)\n",
    "valid[ptp_amp < A] = False\n",
    "#omit segments with amplitude below A\n",
    "tapered_magnitude = magnitude[np.repeat(valid, FS)]\n"
   ]
  },
  {
   "cell_type": "code",
   "execution_count": null,
   "metadata": {},
   "outputs": [],
   "source": [
    "# Number of sidentified steps per second\n",
    "cadence = find_walking(magnitude=tapered_magnitude, valid=valid, fs=FS, \n",
    "                       step_freq=(Fw_min, Fw_max), alpha=alpha, beta=beta,\n",
    "                       min_t=min_T, delta=5, plot_CWT=False)"
   ]
  },
  {
   "cell_type": "code",
   "execution_count": null,
   "metadata": {},
   "outputs": [],
   "source": [
    "print(cadence)"
   ]
  }
 ],
 "metadata": {
  "kernelspec": {
   "display_name": "Python 3",
   "language": "python",
   "name": "python3"
  },
  "language_info": {
   "codemirror_mode": {
    "name": "ipython",
    "version": 3
   },
   "file_extension": ".py",
   "mimetype": "text/x-python",
   "name": "python",
   "nbconvert_exporter": "python",
   "pygments_lexer": "ipython3",
   "version": "3.10.12"
  },
  "orig_nbformat": 4
 },
 "nbformat": 4,
 "nbformat_minor": 2
}
