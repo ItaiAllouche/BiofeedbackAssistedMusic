{
 "cells": [
  {
   "cell_type": "code",
   "execution_count": 1,
   "metadata": {},
   "outputs": [],
   "source": [
    "from acc2sf_offline import get_cadence\n",
    "from media_player import Player\n",
    "import numpy as np\n",
    "import time\n",
    "import pandas as pd\n",
    "#from HR_2_optimal_HR import *"
   ]
  },
  {
   "cell_type": "code",
   "execution_count": null,
   "metadata": {},
   "outputs": [],
   "source": [
    "# This module adapts music tempo to HR by the following rules:\n",
    "# current HR & cadnece above/below optimal  -> speed up/down tempo\n",
    "# every stabilization_period, a decision for changing the tempo will be taken\n",
    "# this modules ignores warm up period\n",
    "\n",
    "# initiate audio player\n",
    "player = Player([\"/mnt/c/Users/Owner/OneDrive/Desktop/Technion/semester6/project_a/BiofeedbackAssistedMusic/recordings/running_track_sunshine_jaunt.mp3\"])\n",
    "\n",
    "# module initialization\n",
    "stabilization_period = 15 # in sec. divisuble by 10\n",
    "delta = 10\n",
    "#warm_up_time = 100 # in sec\n",
    "runner_age = 26\n",
    "runner_max_HR = 220 - runner_age # TODO: find more accurate formula\n",
    "low_HR, high_HR = 95.95, 134.33\n",
    "optimalHR = np.mean([low_HR, high_HR])\n",
    " \n",
    "# Start of Warming Up period\n",
    "# time.sleep(warm_up_time)\n",
    "# optimal_HR = HR_to_optimal_HR(low_HR, high_HR)\n",
    "# End of Warming Up period\n",
    "\n",
    "# averaging cadence and HR in spans of 15 sec\n",
    "cadence = get_cadence(\"../recordings/walking_metronome_100bpm/ACC.csv\") # assuming cadence is measured after warm up period\n",
    "print(cadence)\n",
    "cadence = cadence[:len(cadence)-len(cadence)%stabilization_period]\n",
    "cadence = cadence.reshape(-1, stabilization_period)\n",
    "cadence = np.mean(cadence, axis=1)\n",
    "\n",
    "df = pd.read_csv(\"../recordings/walking_metronome_100bpm/HR.csv\", skiprows=2, header=None) #  the signal is computed in spans of 10 sec\n",
    "df = np.concatenate(df.to_numpy())\n",
    "df = df[:len(df)-len(df)%stabilization_period]\n",
    "df = df.reshape(-1, stabilization_period)\n",
    "HR = np.mean(df, axis=1)\n",
    "\n",
    "for i, currentHR in enumerate(HR):\n",
    "    HR_diff = optimalHR - currentHR\n",
    "    cadence_diff = optimalHR - (cadence[i]*60) # beat per second units\n",
    "\n",
    "    # TODO: improve the following if conditions\n",
    "    if(HR_diff > delta and cadence_diff > delta):\n",
    "        player.up()\n",
    "        print('tempo up')\n",
    "    elif(HR_diff < -delta or cadence_diff < -delta):\n",
    "        player.down(\n",
    "        print('tempo down')\n",
    "        )\n",
    "    else:\n",
    "        print('tempo the same')\n",
    "        pass\n",
    "\n",
    "    # stabilization period\n",
    "    # time.sleep(stabilization_period)"
   ]
  }
 ],
 "metadata": {
  "kernelspec": {
   "display_name": "Python 3",
   "language": "python",
   "name": "python3"
  },
  "language_info": {
   "codemirror_mode": {
    "name": "ipython",
    "version": 3
   },
   "file_extension": ".py",
   "mimetype": "text/x-python",
   "name": "python",
   "nbconvert_exporter": "python",
   "pygments_lexer": "ipython3",
   "version": "3.10.12"
  },
  "orig_nbformat": 4
 },
 "nbformat": 4,
 "nbformat_minor": 2
}
