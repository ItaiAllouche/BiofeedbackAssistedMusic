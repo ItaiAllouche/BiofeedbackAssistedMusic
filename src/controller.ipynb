{
 "cells": [
  {
   "cell_type": "code",
   "execution_count": 1,
   "metadata": {},
   "outputs": [
    {
     "data": {
      "text/plain": [
       "True"
      ]
     },
     "execution_count": 1,
     "metadata": {},
     "output_type": "execute_result"
    }
   ],
   "source": [
    "from acc2sf_offline import get_cadence\n",
    "from media_player import Player\n",
    "import numpy as np\n",
    "import time\n",
    "import pandas as pd\n",
    "# from collections import namedtuple\n",
    "from os import getenv\n",
    "from typing import List, NamedTuple\n",
    "from dotenv import load_dotenv\n",
    "import logging\n",
    "import sys\n",
    "load_dotenv(dotenv_path='../.env')\n",
    "#from HR_2_optimal_HR import *\n",
    "\n"
   ]
  },
  {
   "cell_type": "code",
   "execution_count": 2,
   "metadata": {},
   "outputs": [],
   "source": [
    "class Sample(NamedTuple):\n",
    "    hr: float\n",
    "    cadence: float"
   ]
  },
  {
   "cell_type": "code",
   "execution_count": 3,
   "metadata": {},
   "outputs": [],
   "source": [
    "logger = logging.getLogger(name='controller')\n",
    "\n",
    "fhandler = logging.StreamHandler(sys.stdout)\n",
    "formatter = logging.Formatter('%(name)s - %(levelname)s - %(message)s')\n",
    "fhandler.setFormatter(formatter)\n",
    "logger.addHandler(fhandler)\n",
    "logger.setLevel(logging.DEBUG)\n",
    "\n",
    "\n",
    "def log(i: int, sample: Sample, text: str):\n",
    "    \"\"\"\n",
    "    Logging with severity level `INFO`\n",
    "    \"\"\"\n",
    "    logger.info(f'{i}: {text}   {sample=}')\n",
    "\n",
    "def log_error(text: str):\n",
    "    \"\"\"\n",
    "    Logging with severity level `ERROR`\n",
    "    \"\"\"\n",
    "    logger.error(text)\n",
    "\n",
    "def log_up(i: int, sample: Sample):\n",
    "    log(i=i, sample=sample, text='temp up')\n",
    "\n",
    "def log_down(i: int, sample: Sample):\n",
    "    log(i=i, sample=sample, text='temp down')\n",
    "\n",
    "def log_unchanged(i: int, sample: Sample):\n",
    "    log(i=i, sample=sample, text='temp unchanged')\n",
    "\n"
   ]
  },
  {
   "cell_type": "code",
   "execution_count": 4,
   "metadata": {},
   "outputs": [
    {
     "name": "stdout",
     "output_type": "stream",
     "text": [
      "controller - INFO - First song tempo: 112.34714673913044\n"
     ]
    },
    {
     "name": "stderr",
     "output_type": "stream",
     "text": [
      "First song tempo: 112.34714673913044\n"
     ]
    },
    {
     "name": "stdout",
     "output_type": "stream",
     "text": [
      "controller - INFO - 0: temp unchanged   sample=Sample(hr=83.9, cadence=1.85)\n"
     ]
    },
    {
     "name": "stderr",
     "output_type": "stream",
     "text": [
      "0: temp unchanged   sample=Sample(hr=83.9, cadence=1.85)\n"
     ]
    },
    {
     "name": "stdout",
     "output_type": "stream",
     "text": [
      "controller - DEBUG - 0:     On track\n"
     ]
    },
    {
     "name": "stderr",
     "output_type": "stream",
     "text": [
      "0:     On track\n"
     ]
    },
    {
     "name": "stdout",
     "output_type": "stream",
     "text": [
      "controller - INFO - 1: temp down   sample=Sample(hr=125.23, cadence=2.29)\n"
     ]
    },
    {
     "name": "stderr",
     "output_type": "stream",
     "text": [
      "1: temp down   sample=Sample(hr=125.23, cadence=2.29)\n"
     ]
    },
    {
     "name": "stdout",
     "output_type": "stream",
     "text": [
      "controller - INFO - 2: temp down   sample=Sample(hr=137.07, cadence=2.6)\n"
     ]
    },
    {
     "name": "stderr",
     "output_type": "stream",
     "text": [
      "2: temp down   sample=Sample(hr=137.07, cadence=2.6)\n"
     ]
    },
    {
     "name": "stdout",
     "output_type": "stream",
     "text": [
      "controller - INFO - 3: temp down   sample=Sample(hr=141.91, cadence=2.57)\n"
     ]
    },
    {
     "name": "stderr",
     "output_type": "stream",
     "text": [
      "3: temp down   sample=Sample(hr=141.91, cadence=2.57)\n"
     ]
    },
    {
     "name": "stdout",
     "output_type": "stream",
     "text": [
      "controller - INFO - 4: temp down   sample=Sample(hr=144.35, cadence=2.29)\n"
     ]
    },
    {
     "name": "stderr",
     "output_type": "stream",
     "text": [
      "4: temp down   sample=Sample(hr=144.35, cadence=2.29)\n"
     ]
    },
    {
     "name": "stdout",
     "output_type": "stream",
     "text": [
      "controller - INFO - 5: temp unchanged   sample=Sample(hr=146.01, cadence=1.23)\n"
     ]
    },
    {
     "name": "stderr",
     "output_type": "stream",
     "text": [
      "5: temp unchanged   sample=Sample(hr=146.01, cadence=1.23)\n"
     ]
    },
    {
     "name": "stdout",
     "output_type": "stream",
     "text": [
      "controller - DEBUG - 5:     stable_countdown=2\n"
     ]
    },
    {
     "name": "stderr",
     "output_type": "stream",
     "text": [
      "5:     stable_countdown=2\n"
     ]
    },
    {
     "name": "stdout",
     "output_type": "stream",
     "text": [
      "controller - INFO - 6: temp unchanged   sample=Sample(hr=152.36, cadence=1.79)\n"
     ]
    },
    {
     "name": "stderr",
     "output_type": "stream",
     "text": [
      "6: temp unchanged   sample=Sample(hr=152.36, cadence=1.79)\n"
     ]
    },
    {
     "name": "stdout",
     "output_type": "stream",
     "text": [
      "controller - DEBUG - 6:     stable_countdown=1\n"
     ]
    },
    {
     "name": "stderr",
     "output_type": "stream",
     "text": [
      "6:     stable_countdown=1\n"
     ]
    },
    {
     "name": "stdout",
     "output_type": "stream",
     "text": [
      "controller - INFO - 7: temp down   sample=Sample(hr=153.82, cadence=2.26)\n"
     ]
    },
    {
     "name": "stderr",
     "output_type": "stream",
     "text": [
      "7: temp down   sample=Sample(hr=153.82, cadence=2.26)\n"
     ]
    },
    {
     "name": "stdout",
     "output_type": "stream",
     "text": [
      "controller - INFO - 8: temp down   sample=Sample(hr=153.9, cadence=2.58)\n"
     ]
    },
    {
     "name": "stderr",
     "output_type": "stream",
     "text": [
      "8: temp down   sample=Sample(hr=153.9, cadence=2.58)\n"
     ]
    },
    {
     "name": "stdout",
     "output_type": "stream",
     "text": [
      "controller - INFO - 9: temp down   sample=Sample(hr=154.02, cadence=2.31)\n"
     ]
    },
    {
     "name": "stderr",
     "output_type": "stream",
     "text": [
      "9: temp down   sample=Sample(hr=154.02, cadence=2.31)\n"
     ]
    },
    {
     "name": "stdout",
     "output_type": "stream",
     "text": [
      "controller - INFO - 10: temp down   sample=Sample(hr=154.28, cadence=2.59)\n"
     ]
    },
    {
     "name": "stderr",
     "output_type": "stream",
     "text": [
      "10: temp down   sample=Sample(hr=154.28, cadence=2.59)\n"
     ]
    },
    {
     "name": "stdout",
     "output_type": "stream",
     "text": [
      "controller - INFO - 11: temp down   sample=Sample(hr=154.61, cadence=2.6)\n"
     ]
    },
    {
     "name": "stderr",
     "output_type": "stream",
     "text": [
      "11: temp down   sample=Sample(hr=154.61, cadence=2.6)\n"
     ]
    },
    {
     "name": "stdout",
     "output_type": "stream",
     "text": [
      "controller - INFO - 12: temp unchanged   sample=Sample(hr=154.56, cadence=1.52)\n"
     ]
    },
    {
     "name": "stderr",
     "output_type": "stream",
     "text": [
      "12: temp unchanged   sample=Sample(hr=154.56, cadence=1.52)\n"
     ]
    },
    {
     "name": "stdout",
     "output_type": "stream",
     "text": [
      "controller - DEBUG - 12:     stable_countdown=2\n"
     ]
    },
    {
     "name": "stderr",
     "output_type": "stream",
     "text": [
      "12:     stable_countdown=2\n"
     ]
    },
    {
     "name": "stdout",
     "output_type": "stream",
     "text": [
      "controller - INFO - 13: temp unchanged   sample=Sample(hr=154.9, cadence=1.81)\n"
     ]
    },
    {
     "name": "stderr",
     "output_type": "stream",
     "text": [
      "13: temp unchanged   sample=Sample(hr=154.9, cadence=1.81)\n"
     ]
    },
    {
     "name": "stdout",
     "output_type": "stream",
     "text": [
      "controller - DEBUG - 13:     stable_countdown=1\n"
     ]
    },
    {
     "name": "stderr",
     "output_type": "stream",
     "text": [
      "13:     stable_countdown=1\n"
     ]
    },
    {
     "name": "stdout",
     "output_type": "stream",
     "text": [
      "controller - INFO - 14: temp down   sample=Sample(hr=155.33, cadence=2.34)\n"
     ]
    },
    {
     "name": "stderr",
     "output_type": "stream",
     "text": [
      "14: temp down   sample=Sample(hr=155.33, cadence=2.34)\n"
     ]
    },
    {
     "name": "stdout",
     "output_type": "stream",
     "text": [
      "controller - INFO - 15: temp down   sample=Sample(hr=155.67, cadence=2.32)\n"
     ]
    },
    {
     "name": "stderr",
     "output_type": "stream",
     "text": [
      "15: temp down   sample=Sample(hr=155.67, cadence=2.32)\n"
     ]
    },
    {
     "name": "stdout",
     "output_type": "stream",
     "text": [
      "controller - INFO - 16: temp down   sample=Sample(hr=155.95, cadence=2.31)\n"
     ]
    },
    {
     "name": "stderr",
     "output_type": "stream",
     "text": [
      "16: temp down   sample=Sample(hr=155.95, cadence=2.31)\n"
     ]
    },
    {
     "name": "stdout",
     "output_type": "stream",
     "text": [
      "controller - INFO - 17: temp down   sample=Sample(hr=155.65, cadence=2.25)\n"
     ]
    },
    {
     "name": "stderr",
     "output_type": "stream",
     "text": [
      "17: temp down   sample=Sample(hr=155.65, cadence=2.25)\n"
     ]
    },
    {
     "name": "stdout",
     "output_type": "stream",
     "text": [
      "controller - INFO - 18: temp unchanged   sample=Sample(hr=155.8, cadence=1.49)\n"
     ]
    },
    {
     "name": "stderr",
     "output_type": "stream",
     "text": [
      "18: temp unchanged   sample=Sample(hr=155.8, cadence=1.49)\n"
     ]
    },
    {
     "name": "stdout",
     "output_type": "stream",
     "text": [
      "controller - DEBUG - 18:     stable_countdown=2\n"
     ]
    },
    {
     "name": "stderr",
     "output_type": "stream",
     "text": [
      "18:     stable_countdown=2\n"
     ]
    },
    {
     "name": "stdout",
     "output_type": "stream",
     "text": [
      "controller - INFO - 19: temp down   sample=Sample(hr=155.89, cadence=2.31)\n"
     ]
    },
    {
     "name": "stderr",
     "output_type": "stream",
     "text": [
      "19: temp down   sample=Sample(hr=155.89, cadence=2.31)\n"
     ]
    },
    {
     "name": "stdout",
     "output_type": "stream",
     "text": [
      "controller - INFO - 20: temp down   sample=Sample(hr=155.93, cadence=2.62)\n"
     ]
    },
    {
     "name": "stderr",
     "output_type": "stream",
     "text": [
      "20: temp down   sample=Sample(hr=155.93, cadence=2.62)\n"
     ]
    },
    {
     "name": "stdout",
     "output_type": "stream",
     "text": [
      "controller - INFO - 21: temp down   sample=Sample(hr=156.27, cadence=2.65)\n"
     ]
    },
    {
     "name": "stderr",
     "output_type": "stream",
     "text": [
      "21: temp down   sample=Sample(hr=156.27, cadence=2.65)\n"
     ]
    },
    {
     "name": "stdout",
     "output_type": "stream",
     "text": [
      "controller - INFO - 22: temp down   sample=Sample(hr=156.94, cadence=2.74)\n"
     ]
    },
    {
     "name": "stderr",
     "output_type": "stream",
     "text": [
      "22: temp down   sample=Sample(hr=156.94, cadence=2.74)\n"
     ]
    },
    {
     "name": "stdout",
     "output_type": "stream",
     "text": [
      "controller - INFO - 23: temp down   sample=Sample(hr=158.62, cadence=2.64)\n"
     ]
    },
    {
     "name": "stderr",
     "output_type": "stream",
     "text": [
      "23: temp down   sample=Sample(hr=158.62, cadence=2.64)\n"
     ]
    },
    {
     "name": "stdout",
     "output_type": "stream",
     "text": [
      "controller - INFO - 24: temp unchanged   sample=Sample(hr=153.95, cadence=0.0)\n"
     ]
    },
    {
     "name": "stderr",
     "output_type": "stream",
     "text": [
      "24: temp unchanged   sample=Sample(hr=153.95, cadence=0.0)\n"
     ]
    },
    {
     "name": "stdout",
     "output_type": "stream",
     "text": [
      "controller - DEBUG - 24:     stable_countdown=2\n"
     ]
    },
    {
     "name": "stderr",
     "output_type": "stream",
     "text": [
      "24:     stable_countdown=2\n"
     ]
    },
    {
     "name": "stdout",
     "output_type": "stream",
     "text": [
      "controller - INFO - 25: temp unchanged   sample=Sample(hr=141.5, cadence=1.07)\n"
     ]
    },
    {
     "name": "stderr",
     "output_type": "stream",
     "text": [
      "25: temp unchanged   sample=Sample(hr=141.5, cadence=1.07)\n"
     ]
    },
    {
     "name": "stdout",
     "output_type": "stream",
     "text": [
      "controller - DEBUG - 25:     stable_countdown=1\n"
     ]
    },
    {
     "name": "stderr",
     "output_type": "stream",
     "text": [
      "25:     stable_countdown=1\n"
     ]
    }
   ],
   "source": [
    "# This module adapts music tempo to HR by the following rules:\n",
    "# current HR & cadnece above/below optimal  -> speed up/down tempo\n",
    "# every stabilization_period, a decision for changing the tempo will be taken\n",
    "# this modules ignores warm up period\n",
    "\n",
    "\n",
    "THRESHOLD_HR = int(getenv('THRESHOLD_HR', 10)) # In percentages\n",
    "\"\"\"\n",
    "Threashold for HR divergance from oprimal HR\n",
    "* Units in precentages\n",
    "\"\"\"\n",
    "THRESHOLD_CADANCE = int(getenv('THRESHOLD_CADANCE', 10))# In percentages\n",
    "\"\"\"\n",
    "Threashold for cadence divergance from song tempo\n",
    "* Units in precentages\n",
    "\"\"\"\n",
    "INTERVAL = int(getenv('INTERVAL', 10))\n",
    "\"\"\"\n",
    "Sensor window time\n",
    "* Units in seconds\n",
    "* Must be devisible by `10` (???)\n",
    "\"\"\"\n",
    "STABLE_COUNTDOWN = int(getenv('STABLE_COUNTDOWN', 3))\n",
    "\"\"\"\n",
    "Number of interval with time `INTERVAL` to allow for HR stabilization\n",
    "\"\"\"\n",
    "# initiate audio player\n",
    "player = Player(['../recordings/running_track_sunshine_jaunt.mp3'])\n",
    "\n",
    "# module initialization\n",
    "# delta = 10\n",
    "#warm_up_time = 100 # in sec\n",
    "runner_age = 26\n",
    "runner_max_HR = 220 - runner_age # TODO: find more accurate formula\n",
    "low_HR, high_HR = 95.95, 134.33\n",
    "def get_optimal_heart_rate():\n",
    "    return np.mean([low_HR, high_HR]).round(decimals=2)\n",
    " \n",
    "# Start of Warming Up period\n",
    "# time.sleep(warm_up_time)\n",
    "# optimal_HR = HR_to_optimal_HR(low_HR, high_HR)\n",
    "# End of Warming Up period\n",
    "\n",
    "# averaging cadence and HR in spans of 15 sec\n",
    "cadence = get_cadence(\"../recordings/gym_12kmh/ACC.csv\", running=True) # assuming cadence is measured after warm up period\n",
    "# print(f'{np.count_nonzero(cadence)=}')\n",
    "cadence = cadence[:len(cadence)-len(cadence)%INTERVAL]\n",
    "cadence = cadence.reshape(-1, INTERVAL)\n",
    "cadence = np.mean(cadence, axis=1)\n",
    "\n",
    "df = pd.read_csv(\"../recordings/gym_12kmh/HR.csv\", skiprows=2, header=None, names=['hr']) #  the signal is in 1Hz\n",
    "heart_rate_signal = df['hr'].to_numpy()\n",
    "heart_rate_signal = heart_rate_signal[:len(heart_rate_signal)-len(heart_rate_signal)%INTERVAL]\n",
    "heart_rate_signal = heart_rate_signal.reshape(-1, INTERVAL)\n",
    "heart_rate_signal = np.mean(heart_rate_signal, axis=1)\n",
    "least_length = min(len(heart_rate_signal), len(cadence))\n",
    "heart_rate_signal = heart_rate_signal[:least_length].round(decimals=2)\n",
    "cadence = cadence[:least_length].round(decimals=2)\n",
    "# print(f'{cadence=}')\n",
    "# print(f'{heart_rate_signal=}')\n",
    "\n",
    "samples = [Sample(*s) for s in zip(heart_rate_signal, cadence)]\n",
    "logger.info(f'First song tempo: {player.current_song.tempo}')\n",
    "stable_countdown = STABLE_COUNTDOWN\n",
    "for i, sample in enumerate(samples):\n",
    "    reset_flag = True\n",
    "    hr, cadence = sample\n",
    "    optimal_hr = get_optimal_heart_rate()\n",
    "    hr_divergence = 100*(hr-optimal_hr)/optimal_hr\n",
    "    tempo = player.current_song.tempo\n",
    "    cadence_divergence = 100*(cadence*60-tempo)/tempo # beats per minute\n",
    "    if(hr_divergence > THRESHOLD_HR and stable_countdown > 0): # HR too high\n",
    "        if(cadence_divergence > THRESHOLD_CADANCE): # Running too fast\n",
    "            log_down(i, sample)\n",
    "        else:\n",
    "            stable_countdown -= 1\n",
    "            reset_flag = False\n",
    "            log_unchanged(i, sample)\n",
    "            logger.debug(f'{i}:     {stable_countdown=}')\n",
    "    elif(hr < -THRESHOLD_HR): # HR too low\n",
    "        if(cadence_divergence < -THRESHOLD_CADANCE): # Running too slow\n",
    "            log_up(i, sample)\n",
    "        else:\n",
    "            log_unchanged(i, sample)\n",
    "    else: # HR is optimal\n",
    "        if(cadence_divergence > THRESHOLD_CADANCE): # Running too fast\n",
    "            log_down(i, sample)\n",
    "        elif(cadence_divergence < -THRESHOLD_CADANCE): # Running too slow\n",
    "            log_up(i, sample)\n",
    "        else:\n",
    "            log_unchanged(i, sample)\n",
    "            logger.debug(f'{i}:     On track')\n",
    "    if(reset_flag):\n",
    "        stable_countdown = STABLE_COUNTDOWN\n",
    "    # time.sleep(INTERVAL)"
   ]
  }
 ],
 "metadata": {
  "kernelspec": {
   "display_name": "Python 3",
   "language": "python",
   "name": "python3"
  },
  "language_info": {
   "codemirror_mode": {
    "name": "ipython",
    "version": 3
   },
   "file_extension": ".py",
   "mimetype": "text/x-python",
   "name": "python",
   "nbconvert_exporter": "python",
   "pygments_lexer": "ipython3",
   "version": "3.11.4"
  },
  "orig_nbformat": 4
 },
 "nbformat": 4,
 "nbformat_minor": 2
}
