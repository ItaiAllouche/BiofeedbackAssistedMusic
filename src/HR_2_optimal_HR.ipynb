{
 "cells": [
  {
   "cell_type": "code",
   "execution_count": null,
   "metadata": {},
   "outputs": [],
   "source": [
    "import time\n",
    "from scipy.signal import find_peaks\n",
    "import numpy as np\n",
    "import pandas as pd"
   ]
  },
  {
   "cell_type": "code",
   "execution_count": null,
   "metadata": {},
   "outputs": [],
   "source": [
    "# input: current HR for 2 minutes, and global vars of runner carichatores\n",
    "# output: optimal HR for the rest of the run\n",
    "\n",
    "start_time = 0\n",
    "optimal_HR = 0\n",
    "\n",
    "def Init_module(chosen_formula, runner_age, runner_max_HR):\n",
    "    Tanakas_formuala = lambda age: 208 - (0.70 * age)\n",
    "    Gulatis_formula = lambda age: 206 - (0.88 * age)\n",
    "    global start_time\n",
    "    start_time = time.time()\n",
    "    if chosen_formula == 1:\n",
    "        maximal_HR = Tanakas_formuala(runner_age)\n",
    "    else:\n",
    "        maximal_HR = Gulatis_formula(runner_age)\n",
    "    \n",
    "    maximal_HR = np.mean(maximal_HR, runner_max_HR)\n",
    "    low_HR = maximal_HR * 0.5\n",
    "    high_HR = maximal_HR * 0.7\n",
    "    return (low_HR, high_HR)\n",
    "\n",
    "def HR_to_optimal_HR(low_HR, high_HR):\n",
    "    df = pd.read_csv('/home/dogomen11/BiofeedbackAssistedMusic/recordings/gym_12kmh/HR.csv', skiprows=2, header=None)\n",
    "    samples = df[0].values\n",
    "    HR_change = (samples[120] - samples[0])\n",
    "    HR_diff =  HR_change / 120\n",
    "    from scipy.stats import logistic as sigmoid\n",
    "    optimal_HR = HR_change*(2*sigmoid(HR_diff)-1) + low_HR # TODO check the formula\n",
    "    return optimal_HR"
   ]
  }
 ],
 "metadata": {
  "language_info": {
   "name": "python"
  },
  "orig_nbformat": 4
 },
 "nbformat": 4,
 "nbformat_minor": 2
}
